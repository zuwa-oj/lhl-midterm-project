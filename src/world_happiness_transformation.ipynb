{
 "cells": [
  {
   "cell_type": "code",
   "execution_count": 1,
   "metadata": {},
   "outputs": [],
   "source": [
    "import pandas as pd\n",
    "import numpy as np\n",
    "import matplotlib.pyplot as plt\n",
    "import seaborn as sns"
   ]
  },
  {
   "cell_type": "code",
   "execution_count": 4,
   "metadata": {},
   "outputs": [],
   "source": [
    "df_2015 = pd.read_csv(\"../data/raw/2015.csv\")\n",
    "df_2016 = pd.read_csv(\"../data/raw/2016.csv\")\n",
    "df_2017 = pd.read_csv(\"../data/raw/2017.csv\")\n",
    "df_2018 = pd.read_csv(\"../data/raw/2018.csv\")\n",
    "df_2019 = pd.read_csv(\"../data/raw/2019.csv\")"
   ]
  },
  {
   "cell_type": "code",
   "execution_count": 110,
   "metadata": {},
   "outputs": [],
   "source": [
    "df_2020 = pd.read_csv(\"../data/raw/2020.csv\")\n",
    "df_2021 = pd.read_csv(\"../data/raw/2021.csv\")\n",
    "df_2022 = pd.read_csv(\"../data/raw/2022.csv\")\n",
    "df_2023 = pd.read_csv(\"../data/raw/2023.csv\")"
   ]
  },
  {
   "cell_type": "code",
   "execution_count": 111,
   "metadata": {},
   "outputs": [
    {
     "name": "stdout",
     "output_type": "stream",
     "text": [
      "2015 :  (158, 10) \n",
      " ['Country', 'Region', 'GDP per capita', 'Social support', 'Life Expectancy', 'Freedom', 'Trust', 'Generosity', 'Happiness Rank', 'Happiness Score'] \n",
      "\n",
      "\n",
      "2016 :  (157, 10) \n",
      " ['Country', 'Region', 'GDP per capita', 'Social support', 'Life Expectancy', 'Freedom', 'Trust', 'Generosity', 'Happiness Rank', 'Happiness Score'] \n",
      "\n",
      "\n",
      "2017 :  (155, 10) \n",
      " ['Country', 'Region', 'GDP per capita', 'Social support', 'Life Expectancy', 'Freedom', 'Trust', 'Generosity', 'Happiness Rank', 'Happiness Score'] \n",
      "\n",
      "\n",
      "2018 :  (156, 10) \n",
      " ['Country', 'Region', 'GDP per capita', 'Social support', 'Life Expectancy', 'Freedom', 'Trust', 'Generosity', 'Happiness Rank', 'Happiness Score'] \n",
      "\n",
      "\n",
      "2019 :  (156, 10) \n",
      " ['Country', 'Region', 'GDP per capita', 'Social support', 'Life Expectancy', 'Freedom', 'Trust', 'Generosity', 'Happiness Rank', 'Happiness Score'] \n",
      "\n",
      "\n",
      "2020 :  (153, 20) \n",
      " ['Country name', 'Regional indicator', 'Ladder score', 'Standard error of ladder score', 'upperwhisker', 'lowerwhisker', 'Logged GDP per capita', 'Social support', 'Healthy life expectancy', 'Freedom to make life choices', 'Generosity', 'Perceptions of corruption', 'Ladder score in Dystopia', 'Explained by: Log GDP per capita', 'Explained by: Social support', 'Explained by: Healthy life expectancy', 'Explained by: Freedom to make life choices', 'Explained by: Generosity', 'Explained by: Perceptions of corruption', 'Dystopia + residual'] \n",
      "\n",
      "\n",
      "2021 :  (149, 20) \n",
      " ['Country name', 'Regional indicator', 'Ladder score', 'Standard error of ladder score', 'upperwhisker', 'lowerwhisker', 'Logged GDP per capita', 'Social support', 'Healthy life expectancy', 'Freedom to make life choices', 'Generosity', 'Perceptions of corruption', 'Ladder score in Dystopia', 'Explained by: Log GDP per capita', 'Explained by: Social support', 'Explained by: Healthy life expectancy', 'Explained by: Freedom to make life choices', 'Explained by: Generosity', 'Explained by: Perceptions of corruption', 'Dystopia + residual'] \n",
      "\n",
      "\n",
      "2022 :  (2089, 12) \n",
      " ['Country name', 'year', 'Life Ladder', 'Log GDP per capita', 'Social support', 'Healthy life expectancy at birth', 'Freedom to make life choices', 'Generosity', 'Perceptions of corruption', 'Positive affect', 'Negative affect', 'Confidence in national government'] \n",
      "\n",
      "\n",
      "2023 :  (2199, 11) \n",
      " ['Country name', 'year', 'Life Ladder', 'Log GDP per capita', 'Social support', 'Healthy life expectancy at birth', 'Freedom to make life choices', 'Generosity', 'Perceptions of corruption', 'Positive affect', 'Negative affect'] \n",
      "\n",
      "\n"
     ]
    }
   ],
   "source": [
    "years_list = [df_2015, df_2016, df_2017, df_2018, df_2019, df_2020, df_2021, df_2022, df_2023]\n",
    "for index, year in enumerate(years_list):\n",
    "    print(2015+index, ': ', year.shape, '\\n', year.columns.tolist(), '\\n\\n')"
   ]
  },
  {
   "cell_type": "code",
   "execution_count": 16,
   "metadata": {},
   "outputs": [],
   "source": [
    "# print('2015: ', df_2015.shape, '\\n', df_2015.columns.to_list(), '\\n\\n', \n",
    "#       '2016: ', df_2016.shape, '\\n', df_2016.columns.to_list(), '\\n\\n',\n",
    "#       '2017: ', df_2017.shape, '\\n', df_2017.columns.to_list(), '\\n\\n',\n",
    "#       '2018: ', df_2018.shape, '\\n', df_2018.columns.to_list(), '\\n\\n',\n",
    "#       '2019: ', df_2018.shape, '\\n', df_2018.columns.to_list(), '\\n\\n',)"
   ]
  },
  {
   "cell_type": "code",
   "execution_count": null,
   "metadata": {},
   "outputs": [],
   "source": [
    "# Drop columns and standardise column names: "
   ]
  },
  {
   "cell_type": "code",
   "execution_count": 29,
   "metadata": {},
   "outputs": [
    {
     "data": {
      "text/plain": [
       "0    1.592\n",
       "1    1.582\n",
       "2    1.590\n",
       "3    1.644\n",
       "4    1.549\n",
       "Name: Social support, dtype: float64"
      ]
     },
     "execution_count": 29,
     "metadata": {},
     "output_type": "execute_result"
    }
   ],
   "source": [
    "df_2018['Social support'].head(5)"
   ]
  },
  {
   "cell_type": "code",
   "execution_count": 30,
   "metadata": {},
   "outputs": [
    {
     "data": {
      "text/plain": [
       "0    1.34951\n",
       "1    1.40223\n",
       "2    1.36058\n",
       "3    1.33095\n",
       "4    1.32261\n",
       "Name: Family, dtype: float64"
      ]
     },
     "execution_count": 30,
     "metadata": {},
     "output_type": "execute_result"
    }
   ],
   "source": [
    "df_2015['Family'].head(5)"
   ]
  },
  {
   "cell_type": "code",
   "execution_count": null,
   "metadata": {},
   "outputs": [],
   "source": []
  },
  {
   "cell_type": "code",
   "execution_count": 39,
   "metadata": {},
   "outputs": [],
   "source": [
    "new_column_names = {\n",
    "    'Economy (GDP per Capita)': 'GDP per capita',\n",
    "    'Economy..GDP.per.Capita.': 'GDP per capita',\n",
    "    'Health (Life Expectancy)': 'Life Expectancy',\n",
    "    'Health..Life.Expectancy.': 'Life Expectancy',\n",
    "    'Healthy life expectancy': 'Life Expectancy',\n",
    "    'Happiness.Rank': 'Happiness Rank',\n",
    "    'Overall rank': 'Happiness Rank',\n",
    "    'Happiness.Score': 'Happiness Score',\n",
    "    'Score': 'Happiness Score',\n",
    "    'Country or region': 'Country',\n",
    "    'Freedom to make life choices': 'Freedom',\n",
    "    'Trust (Government Corruption)': 'Trust',\n",
    "    'Trust..Government.Corruption.': 'Trust',\n",
    "    'Perceptions of corruption': 'Trust',\n",
    "    'Freedom to make life choices': 'Freedom',\n",
    "    'Family': 'Social support'   \n",
    "}"
   ]
  },
  {
   "cell_type": "code",
   "execution_count": 40,
   "metadata": {},
   "outputs": [],
   "source": [
    "df_2015 = df_2015.rename(columns=new_column_names, inplace=False)\n",
    "df_2016 = df_2016.rename(columns=new_column_names, inplace=False)\n",
    "df_2017 = df_2017.rename(columns=new_column_names, inplace=False)\n",
    "df_2018 = df_2018.rename(columns=new_column_names, inplace=False)\n",
    "df_2019 = df_2019.rename(columns=new_column_names, inplace=False)"
   ]
  },
  {
   "cell_type": "code",
   "execution_count": 41,
   "metadata": {},
   "outputs": [
    {
     "name": "stdout",
     "output_type": "stream",
     "text": [
      "2015 :  (158, 12) \n",
      " ['Country', 'Region', 'Happiness Rank', 'Happiness Score', 'Standard Error', 'GDP per capita', 'Social support', 'Life Expectancy', 'Freedom', 'Trust', 'Generosity', 'Dystopia Residual'] \n",
      "\n",
      "\n",
      "2016 :  (157, 13) \n",
      " ['Country', 'Region', 'Happiness Rank', 'Happiness Score', 'Lower Confidence Interval', 'Upper Confidence Interval', 'GDP per capita', 'Social support', 'Life Expectancy', 'Freedom', 'Trust', 'Generosity', 'Dystopia Residual'] \n",
      "\n",
      "\n",
      "2017 :  (155, 12) \n",
      " ['Country', 'Happiness Rank', 'Happiness Score', 'Whisker.high', 'Whisker.low', 'GDP per capita', 'Social support', 'Life Expectancy', 'Freedom', 'Generosity', 'Trust', 'Dystopia.Residual'] \n",
      "\n",
      "\n",
      "2018 :  (156, 9) \n",
      " ['Happiness Rank', 'Country', 'Happiness Score', 'GDP per capita', 'Social support', 'Life Expectancy', 'Freedom', 'Generosity', 'Trust'] \n",
      "\n",
      "\n",
      "2019 :  (156, 9) \n",
      " ['Happiness Rank', 'Country', 'Happiness Score', 'GDP per capita', 'Social support', 'Life Expectancy', 'Freedom', 'Generosity', 'Trust'] \n",
      "\n",
      "\n"
     ]
    }
   ],
   "source": [
    "years_list = [df_2015, df_2016, df_2017, df_2018, df_2019]\n",
    "for index, year in enumerate(years_list):\n",
    "    print(2015+index, ': ', year.shape, '\\n', year.columns.tolist(), '\\n\\n')"
   ]
  },
  {
   "cell_type": "code",
   "execution_count": null,
   "metadata": {},
   "outputs": [],
   "source": []
  },
  {
   "cell_type": "code",
   "execution_count": 54,
   "metadata": {},
   "outputs": [],
   "source": [
    "def make_region_column(df_year):\n",
    "    df_year = df_year.merge(df_2015[['Country', 'Region']], on='Country', how='left')\n",
    "    return df_year\n",
    "\n",
    "df_2017 = make_region_column(df_2017)\n",
    "df_2018 = make_region_column(df_2018)\n",
    "df_2019 = make_region_column(df_2019)\n"
   ]
  },
  {
   "cell_type": "code",
   "execution_count": 55,
   "metadata": {},
   "outputs": [
    {
     "name": "stdout",
     "output_type": "stream",
     "text": [
      "2015 :  (158, 12) \n",
      " ['Country', 'Region', 'Happiness Rank', 'Happiness Score', 'Standard Error', 'GDP per capita', 'Social support', 'Life Expectancy', 'Freedom', 'Trust', 'Generosity', 'Dystopia Residual'] \n",
      "\n",
      "\n",
      "2016 :  (157, 13) \n",
      " ['Country', 'Region', 'Happiness Rank', 'Happiness Score', 'Lower Confidence Interval', 'Upper Confidence Interval', 'GDP per capita', 'Social support', 'Life Expectancy', 'Freedom', 'Trust', 'Generosity', 'Dystopia Residual'] \n",
      "\n",
      "\n",
      "2017 :  (155, 13) \n",
      " ['Country', 'Happiness Rank', 'Happiness Score', 'Whisker.high', 'Whisker.low', 'GDP per capita', 'Social support', 'Life Expectancy', 'Freedom', 'Generosity', 'Trust', 'Dystopia.Residual', 'Region'] \n",
      "\n",
      "\n",
      "2018 :  (156, 10) \n",
      " ['Happiness Rank', 'Country', 'Happiness Score', 'GDP per capita', 'Social support', 'Life Expectancy', 'Freedom', 'Generosity', 'Trust', 'Region'] \n",
      "\n",
      "\n",
      "2019 :  (156, 10) \n",
      " ['Happiness Rank', 'Country', 'Happiness Score', 'GDP per capita', 'Social support', 'Life Expectancy', 'Freedom', 'Generosity', 'Trust', 'Region'] \n",
      "\n",
      "\n"
     ]
    }
   ],
   "source": [
    "years_list = [df_2015, df_2016, df_2017, df_2018, df_2019]\n",
    "for index, year in enumerate(years_list):\n",
    "    print(2015+index, ': ', year.shape, '\\n', year.columns.tolist(), '\\n\\n')"
   ]
  },
  {
   "cell_type": "code",
   "execution_count": 74,
   "metadata": {},
   "outputs": [
    {
     "ename": "KeyError",
     "evalue": "\"['Standard Error', 'Dystopia Residual'] not found in axis\"",
     "output_type": "error",
     "traceback": [
      "\u001b[0;31m---------------------------------------------------------------------------\u001b[0m",
      "\u001b[0;31mKeyError\u001b[0m                                  Traceback (most recent call last)",
      "Cell \u001b[0;32mIn[74], line 1\u001b[0m\n\u001b[0;32m----> 1\u001b[0m df_2015\u001b[39m.\u001b[39mdrop([\u001b[39m'\u001b[39m\u001b[39mStandard Error\u001b[39m\u001b[39m'\u001b[39m, \u001b[39m'\u001b[39m\u001b[39mDystopia Residual\u001b[39m\u001b[39m'\u001b[39m], axis\u001b[39m=\u001b[39m\u001b[39m1\u001b[39m, inplace\u001b[39m=\u001b[39m\u001b[39mTrue\u001b[39;00m)\n\u001b[1;32m      2\u001b[0m df_2016\u001b[39m.\u001b[39mdrop([\u001b[39m'\u001b[39m\u001b[39mLower Confidence Interval\u001b[39m\u001b[39m'\u001b[39m, \u001b[39m'\u001b[39m\u001b[39mUpper Confidence Interval\u001b[39m\u001b[39m'\u001b[39m, \u001b[39m'\u001b[39m\u001b[39mDystopia Residual\u001b[39m\u001b[39m'\u001b[39m], axis\u001b[39m=\u001b[39m\u001b[39m1\u001b[39m, inplace\u001b[39m=\u001b[39m\u001b[39mTrue\u001b[39;00m)\n\u001b[1;32m      3\u001b[0m df_2017\u001b[39m.\u001b[39mdrop([\u001b[39m'\u001b[39m\u001b[39mWhisker.high\u001b[39m\u001b[39m'\u001b[39m, \u001b[39m'\u001b[39m\u001b[39mWhisker.low\u001b[39m\u001b[39m'\u001b[39m, \u001b[39m'\u001b[39m\u001b[39mDystopia.Residual\u001b[39m\u001b[39m'\u001b[39m], axis\u001b[39m=\u001b[39m\u001b[39m1\u001b[39m, inplace\u001b[39m=\u001b[39m\u001b[39mTrue\u001b[39;00m)\n",
      "File \u001b[0;32m~/anaconda3/lib/python3.11/site-packages/pandas/util/_decorators.py:331\u001b[0m, in \u001b[0;36mdeprecate_nonkeyword_arguments.<locals>.decorate.<locals>.wrapper\u001b[0;34m(*args, **kwargs)\u001b[0m\n\u001b[1;32m    325\u001b[0m \u001b[39mif\u001b[39;00m \u001b[39mlen\u001b[39m(args) \u001b[39m>\u001b[39m num_allow_args:\n\u001b[1;32m    326\u001b[0m     warnings\u001b[39m.\u001b[39mwarn(\n\u001b[1;32m    327\u001b[0m         msg\u001b[39m.\u001b[39mformat(arguments\u001b[39m=\u001b[39m_format_argument_list(allow_args)),\n\u001b[1;32m    328\u001b[0m         \u001b[39mFutureWarning\u001b[39;00m,\n\u001b[1;32m    329\u001b[0m         stacklevel\u001b[39m=\u001b[39mfind_stack_level(),\n\u001b[1;32m    330\u001b[0m     )\n\u001b[0;32m--> 331\u001b[0m \u001b[39mreturn\u001b[39;00m func(\u001b[39m*\u001b[39margs, \u001b[39m*\u001b[39m\u001b[39m*\u001b[39mkwargs)\n",
      "File \u001b[0;32m~/anaconda3/lib/python3.11/site-packages/pandas/core/frame.py:5399\u001b[0m, in \u001b[0;36mDataFrame.drop\u001b[0;34m(self, labels, axis, index, columns, level, inplace, errors)\u001b[0m\n\u001b[1;32m   5251\u001b[0m \u001b[39m@deprecate_nonkeyword_arguments\u001b[39m(version\u001b[39m=\u001b[39m\u001b[39mNone\u001b[39;00m, allowed_args\u001b[39m=\u001b[39m[\u001b[39m\"\u001b[39m\u001b[39mself\u001b[39m\u001b[39m\"\u001b[39m, \u001b[39m\"\u001b[39m\u001b[39mlabels\u001b[39m\u001b[39m\"\u001b[39m])\n\u001b[1;32m   5252\u001b[0m \u001b[39mdef\u001b[39;00m \u001b[39mdrop\u001b[39m(  \u001b[39m# type: ignore[override]\u001b[39;00m\n\u001b[1;32m   5253\u001b[0m     \u001b[39mself\u001b[39m,\n\u001b[0;32m   (...)\u001b[0m\n\u001b[1;32m   5260\u001b[0m     errors: IgnoreRaise \u001b[39m=\u001b[39m \u001b[39m\"\u001b[39m\u001b[39mraise\u001b[39m\u001b[39m\"\u001b[39m,\n\u001b[1;32m   5261\u001b[0m ) \u001b[39m-\u001b[39m\u001b[39m>\u001b[39m DataFrame \u001b[39m|\u001b[39m \u001b[39mNone\u001b[39;00m:\n\u001b[1;32m   5262\u001b[0m \u001b[39m    \u001b[39m\u001b[39m\"\"\"\u001b[39;00m\n\u001b[1;32m   5263\u001b[0m \u001b[39m    Drop specified labels from rows or columns.\u001b[39;00m\n\u001b[1;32m   5264\u001b[0m \n\u001b[0;32m   (...)\u001b[0m\n\u001b[1;32m   5397\u001b[0m \u001b[39m            weight  1.0     0.8\u001b[39;00m\n\u001b[1;32m   5398\u001b[0m \u001b[39m    \"\"\"\u001b[39;00m\n\u001b[0;32m-> 5399\u001b[0m     \u001b[39mreturn\u001b[39;00m \u001b[39msuper\u001b[39m()\u001b[39m.\u001b[39mdrop(\n\u001b[1;32m   5400\u001b[0m         labels\u001b[39m=\u001b[39mlabels,\n\u001b[1;32m   5401\u001b[0m         axis\u001b[39m=\u001b[39maxis,\n\u001b[1;32m   5402\u001b[0m         index\u001b[39m=\u001b[39mindex,\n\u001b[1;32m   5403\u001b[0m         columns\u001b[39m=\u001b[39mcolumns,\n\u001b[1;32m   5404\u001b[0m         level\u001b[39m=\u001b[39mlevel,\n\u001b[1;32m   5405\u001b[0m         inplace\u001b[39m=\u001b[39minplace,\n\u001b[1;32m   5406\u001b[0m         errors\u001b[39m=\u001b[39merrors,\n\u001b[1;32m   5407\u001b[0m     )\n",
      "File \u001b[0;32m~/anaconda3/lib/python3.11/site-packages/pandas/util/_decorators.py:331\u001b[0m, in \u001b[0;36mdeprecate_nonkeyword_arguments.<locals>.decorate.<locals>.wrapper\u001b[0;34m(*args, **kwargs)\u001b[0m\n\u001b[1;32m    325\u001b[0m \u001b[39mif\u001b[39;00m \u001b[39mlen\u001b[39m(args) \u001b[39m>\u001b[39m num_allow_args:\n\u001b[1;32m    326\u001b[0m     warnings\u001b[39m.\u001b[39mwarn(\n\u001b[1;32m    327\u001b[0m         msg\u001b[39m.\u001b[39mformat(arguments\u001b[39m=\u001b[39m_format_argument_list(allow_args)),\n\u001b[1;32m    328\u001b[0m         \u001b[39mFutureWarning\u001b[39;00m,\n\u001b[1;32m    329\u001b[0m         stacklevel\u001b[39m=\u001b[39mfind_stack_level(),\n\u001b[1;32m    330\u001b[0m     )\n\u001b[0;32m--> 331\u001b[0m \u001b[39mreturn\u001b[39;00m func(\u001b[39m*\u001b[39margs, \u001b[39m*\u001b[39m\u001b[39m*\u001b[39mkwargs)\n",
      "File \u001b[0;32m~/anaconda3/lib/python3.11/site-packages/pandas/core/generic.py:4505\u001b[0m, in \u001b[0;36mNDFrame.drop\u001b[0;34m(self, labels, axis, index, columns, level, inplace, errors)\u001b[0m\n\u001b[1;32m   4503\u001b[0m \u001b[39mfor\u001b[39;00m axis, labels \u001b[39min\u001b[39;00m axes\u001b[39m.\u001b[39mitems():\n\u001b[1;32m   4504\u001b[0m     \u001b[39mif\u001b[39;00m labels \u001b[39mis\u001b[39;00m \u001b[39mnot\u001b[39;00m \u001b[39mNone\u001b[39;00m:\n\u001b[0;32m-> 4505\u001b[0m         obj \u001b[39m=\u001b[39m obj\u001b[39m.\u001b[39m_drop_axis(labels, axis, level\u001b[39m=\u001b[39mlevel, errors\u001b[39m=\u001b[39merrors)\n\u001b[1;32m   4507\u001b[0m \u001b[39mif\u001b[39;00m inplace:\n\u001b[1;32m   4508\u001b[0m     \u001b[39mself\u001b[39m\u001b[39m.\u001b[39m_update_inplace(obj)\n",
      "File \u001b[0;32m~/anaconda3/lib/python3.11/site-packages/pandas/core/generic.py:4546\u001b[0m, in \u001b[0;36mNDFrame._drop_axis\u001b[0;34m(self, labels, axis, level, errors, only_slice)\u001b[0m\n\u001b[1;32m   4544\u001b[0m         new_axis \u001b[39m=\u001b[39m axis\u001b[39m.\u001b[39mdrop(labels, level\u001b[39m=\u001b[39mlevel, errors\u001b[39m=\u001b[39merrors)\n\u001b[1;32m   4545\u001b[0m     \u001b[39melse\u001b[39;00m:\n\u001b[0;32m-> 4546\u001b[0m         new_axis \u001b[39m=\u001b[39m axis\u001b[39m.\u001b[39mdrop(labels, errors\u001b[39m=\u001b[39merrors)\n\u001b[1;32m   4547\u001b[0m     indexer \u001b[39m=\u001b[39m axis\u001b[39m.\u001b[39mget_indexer(new_axis)\n\u001b[1;32m   4549\u001b[0m \u001b[39m# Case for non-unique axis\u001b[39;00m\n\u001b[1;32m   4550\u001b[0m \u001b[39melse\u001b[39;00m:\n",
      "File \u001b[0;32m~/anaconda3/lib/python3.11/site-packages/pandas/core/indexes/base.py:6934\u001b[0m, in \u001b[0;36mIndex.drop\u001b[0;34m(self, labels, errors)\u001b[0m\n\u001b[1;32m   6932\u001b[0m \u001b[39mif\u001b[39;00m mask\u001b[39m.\u001b[39many():\n\u001b[1;32m   6933\u001b[0m     \u001b[39mif\u001b[39;00m errors \u001b[39m!=\u001b[39m \u001b[39m\"\u001b[39m\u001b[39mignore\u001b[39m\u001b[39m\"\u001b[39m:\n\u001b[0;32m-> 6934\u001b[0m         \u001b[39mraise\u001b[39;00m \u001b[39mKeyError\u001b[39;00m(\u001b[39mf\u001b[39m\u001b[39m\"\u001b[39m\u001b[39m{\u001b[39;00m\u001b[39mlist\u001b[39m(labels[mask])\u001b[39m}\u001b[39;00m\u001b[39m not found in axis\u001b[39m\u001b[39m\"\u001b[39m)\n\u001b[1;32m   6935\u001b[0m     indexer \u001b[39m=\u001b[39m indexer[\u001b[39m~\u001b[39mmask]\n\u001b[1;32m   6936\u001b[0m \u001b[39mreturn\u001b[39;00m \u001b[39mself\u001b[39m\u001b[39m.\u001b[39mdelete(indexer)\n",
      "\u001b[0;31mKeyError\u001b[0m: \"['Standard Error', 'Dystopia Residual'] not found in axis\""
     ]
    }
   ],
   "source": [
    "df_2015.drop(['Standard Error', 'Dystopia Residual'], axis=1, inplace=True)\n",
    "df_2016.drop(['Lower Confidence Interval', 'Upper Confidence Interval', 'Dystopia Residual'], axis=1, inplace=True)\n",
    "df_2017.drop(['Whisker.high', 'Whisker.low', 'Dystopia.Residual'], axis=1, inplace=True)"
   ]
  },
  {
   "cell_type": "code",
   "execution_count": 73,
   "metadata": {},
   "outputs": [
    {
     "name": "stdout",
     "output_type": "stream",
     "text": [
      "2015 :  (158, 10) \n",
      " ['Country', 'Region', 'Happiness Rank', 'Happiness Score', 'GDP per capita', 'Social support', 'Life Expectancy', 'Freedom', 'Trust', 'Generosity'] \n",
      "\n",
      "\n",
      "2016 :  (157, 10) \n",
      " ['Country', 'Region', 'Happiness Rank', 'Happiness Score', 'GDP per capita', 'Social support', 'Life Expectancy', 'Freedom', 'Trust', 'Generosity'] \n",
      "\n",
      "\n",
      "2017 :  (155, 10) \n",
      " ['Country', 'Happiness Rank', 'Happiness Score', 'GDP per capita', 'Social support', 'Life Expectancy', 'Freedom', 'Generosity', 'Trust', 'Region'] \n",
      "\n",
      "\n",
      "2018 :  (156, 10) \n",
      " ['Happiness Rank', 'Country', 'Happiness Score', 'GDP per capita', 'Social support', 'Life Expectancy', 'Freedom', 'Generosity', 'Trust', 'Region'] \n",
      "\n",
      "\n",
      "2019 :  (156, 10) \n",
      " ['Happiness Rank', 'Country', 'Happiness Score', 'GDP per capita', 'Social support', 'Life Expectancy', 'Freedom', 'Generosity', 'Trust', 'Region'] \n",
      "\n",
      "\n"
     ]
    }
   ],
   "source": [
    "years_list = [df_2015, df_2016, df_2017, df_2018, df_2019]\n",
    "for index, year in enumerate(years_list):\n",
    "    print(2015+index, ': ', year.shape, '\\n', year.columns.tolist(), '\\n\\n')"
   ]
  },
  {
   "cell_type": "code",
   "execution_count": 78,
   "metadata": {},
   "outputs": [],
   "source": [
    "ordered_columns = ['Country', 'Region', 'GDP per capita', 'Social support', 'Life Expectancy', \n",
    "                   'Freedom', 'Trust', 'Generosity', 'Happiness Rank', 'Happiness Score']\n",
    "\n",
    "df_2015 = df_2015[ordered_columns]\n",
    "df_2016 = df_2016[ordered_columns]\n",
    "df_2017 = df_2017[ordered_columns]\n",
    "df_2018 = df_2018[ordered_columns]\n",
    "df_2019 = df_2019[ordered_columns]"
   ]
  },
  {
   "cell_type": "code",
   "execution_count": 79,
   "metadata": {},
   "outputs": [
    {
     "name": "stdout",
     "output_type": "stream",
     "text": [
      "2015 :  (158, 10) \n",
      " ['Country', 'Region', 'GDP per capita', 'Social support', 'Life Expectancy', 'Freedom', 'Trust', 'Generosity', 'Happiness Rank', 'Happiness Score'] \n",
      "\n",
      "\n",
      "2016 :  (157, 10) \n",
      " ['Country', 'Region', 'GDP per capita', 'Social support', 'Life Expectancy', 'Freedom', 'Trust', 'Generosity', 'Happiness Rank', 'Happiness Score'] \n",
      "\n",
      "\n",
      "2017 :  (155, 10) \n",
      " ['Country', 'Region', 'GDP per capita', 'Social support', 'Life Expectancy', 'Freedom', 'Trust', 'Generosity', 'Happiness Rank', 'Happiness Score'] \n",
      "\n",
      "\n",
      "2018 :  (156, 10) \n",
      " ['Country', 'Region', 'GDP per capita', 'Social support', 'Life Expectancy', 'Freedom', 'Trust', 'Generosity', 'Happiness Rank', 'Happiness Score'] \n",
      "\n",
      "\n",
      "2019 :  (156, 10) \n",
      " ['Country', 'Region', 'GDP per capita', 'Social support', 'Life Expectancy', 'Freedom', 'Trust', 'Generosity', 'Happiness Rank', 'Happiness Score'] \n",
      "\n",
      "\n"
     ]
    }
   ],
   "source": [
    "years_list = [df_2015, df_2016, df_2017, df_2018, df_2019]\n",
    "for index, year in enumerate(years_list):\n",
    "    print(2015+index, ': ', year.shape, '\\n', year.columns.tolist(), '\\n\\n')"
   ]
  },
  {
   "cell_type": "code",
   "execution_count": 192,
   "metadata": {},
   "outputs": [
    {
     "name": "stdout",
     "output_type": "stream",
     "text": [
      "2015 doesn't have duplicated values\n",
      "2016 doesn't have duplicated values\n",
      "2017 doesn't have duplicated values\n",
      "2018 doesn't have duplicated values\n",
      "2019 doesn't have duplicated values\n"
     ]
    }
   ],
   "source": [
    "for index, year in enumerate(years_list):\n",
    "    duplicated_status = year.duplicated().values.any()\n",
    "    if duplicated_status:\n",
    "        print(2015+index, \"has duplicated values\")\n",
    "    else:\n",
    "        print(2015+index, \"doesn't have duplicated values\")"
   ]
  },
  {
   "cell_type": "code",
   "execution_count": 93,
   "metadata": {},
   "outputs": [
    {
     "name": "stdout",
     "output_type": "stream",
     "text": [
      "2015 doesn't have null values\n",
      "2016 doesn't have null values\n",
      "2017 has null values\n",
      "2018 has null values\n",
      "2019 has null values\n"
     ]
    }
   ],
   "source": [
    "for index, year in enumerate(years_list):\n",
    "    null_status = year.isnull().values.any()\n",
    "    if null_status:\n",
    "        print(2015+index, \"has null values\")\n",
    "    else:\n",
    "        print(2015+index, \"doesn't have null values\")"
   ]
  },
  {
   "cell_type": "code",
   "execution_count": 106,
   "metadata": {},
   "outputs": [
    {
     "name": "stdout",
     "output_type": "stream",
     "text": [
      "2015 doesn't have nan values\n",
      "2016 doesn't have nan values\n",
      "2017 has nan values\n",
      "2018 has nan values\n",
      "2019 has nan values\n"
     ]
    }
   ],
   "source": [
    "for index, year in enumerate(years_list):\n",
    "    nan_status = year.isna().values.any()\n",
    "    if nan_status:\n",
    "        print(2015+index, \"has nan values\")\n",
    "    else:\n",
    "        print(2015+index, \"doesn't have nan values\")"
   ]
  },
  {
   "cell_type": "code",
   "execution_count": 94,
   "metadata": {},
   "outputs": [
    {
     "data": {
      "text/plain": [
       "Country            0\n",
       "Region             6\n",
       "GDP per capita     0\n",
       "Social support     0\n",
       "Life Expectancy    0\n",
       "Freedom            0\n",
       "Trust              0\n",
       "Generosity         0\n",
       "Happiness Rank     0\n",
       "Happiness Score    0\n",
       "dtype: int64"
      ]
     },
     "execution_count": 94,
     "metadata": {},
     "output_type": "execute_result"
    }
   ],
   "source": [
    "df_2017.isna().sum()"
   ]
  },
  {
   "cell_type": "code",
   "execution_count": 95,
   "metadata": {},
   "outputs": [
    {
     "data": {
      "text/plain": [
       "Country            0\n",
       "Region             6\n",
       "GDP per capita     0\n",
       "Social support     0\n",
       "Life Expectancy    0\n",
       "Freedom            0\n",
       "Trust              1\n",
       "Generosity         0\n",
       "Happiness Rank     0\n",
       "Happiness Score    0\n",
       "dtype: int64"
      ]
     },
     "execution_count": 95,
     "metadata": {},
     "output_type": "execute_result"
    }
   ],
   "source": [
    "df_2018.isna().sum()"
   ]
  },
  {
   "cell_type": "code",
   "execution_count": 96,
   "metadata": {},
   "outputs": [
    {
     "data": {
      "text/plain": [
       "Country            0\n",
       "Region             7\n",
       "GDP per capita     0\n",
       "Social support     0\n",
       "Life Expectancy    0\n",
       "Freedom            0\n",
       "Trust              0\n",
       "Generosity         0\n",
       "Happiness Rank     0\n",
       "Happiness Score    0\n",
       "dtype: int64"
      ]
     },
     "execution_count": 96,
     "metadata": {},
     "output_type": "execute_result"
    }
   ],
   "source": [
    "df_2019.isna().sum()"
   ]
  },
  {
   "cell_type": "code",
   "execution_count": 97,
   "metadata": {},
   "outputs": [
    {
     "data": {
      "text/plain": [
       "Country            0\n",
       "Region             6\n",
       "GDP per capita     0\n",
       "Social support     0\n",
       "Life Expectancy    0\n",
       "Freedom            0\n",
       "Trust              0\n",
       "Generosity         0\n",
       "Happiness Rank     0\n",
       "Happiness Score    0\n",
       "dtype: int64"
      ]
     },
     "execution_count": 97,
     "metadata": {},
     "output_type": "execute_result"
    }
   ],
   "source": [
    "df_2018['Trust'].fillna((df_2018['Trust'].mean()), inplace=True)\n",
    "df_2018.isna().sum()"
   ]
  },
  {
   "cell_type": "code",
   "execution_count": 101,
   "metadata": {},
   "outputs": [
    {
     "data": {
      "text/html": [
       "<div>\n",
       "<style scoped>\n",
       "    .dataframe tbody tr th:only-of-type {\n",
       "        vertical-align: middle;\n",
       "    }\n",
       "\n",
       "    .dataframe tbody tr th {\n",
       "        vertical-align: top;\n",
       "    }\n",
       "\n",
       "    .dataframe thead th {\n",
       "        text-align: right;\n",
       "    }\n",
       "</style>\n",
       "<table border=\"1\" class=\"dataframe\">\n",
       "  <thead>\n",
       "    <tr style=\"text-align: right;\">\n",
       "      <th></th>\n",
       "      <th>Country</th>\n",
       "      <th>Region</th>\n",
       "      <th>GDP per capita</th>\n",
       "      <th>Social support</th>\n",
       "      <th>Life Expectancy</th>\n",
       "      <th>Freedom</th>\n",
       "      <th>Trust</th>\n",
       "      <th>Generosity</th>\n",
       "      <th>Happiness Rank</th>\n",
       "      <th>Happiness Score</th>\n",
       "    </tr>\n",
       "  </thead>\n",
       "  <tbody>\n",
       "    <tr>\n",
       "      <th>32</th>\n",
       "      <td>Taiwan Province of China</td>\n",
       "      <td>NaN</td>\n",
       "      <td>1.433627</td>\n",
       "      <td>1.384565</td>\n",
       "      <td>0.793984</td>\n",
       "      <td>0.361467</td>\n",
       "      <td>0.063829</td>\n",
       "      <td>0.258360</td>\n",
       "      <td>33</td>\n",
       "      <td>6.422</td>\n",
       "    </tr>\n",
       "    <tr>\n",
       "      <th>49</th>\n",
       "      <td>Belize</td>\n",
       "      <td>NaN</td>\n",
       "      <td>0.907975</td>\n",
       "      <td>1.081418</td>\n",
       "      <td>0.450192</td>\n",
       "      <td>0.547509</td>\n",
       "      <td>0.096581</td>\n",
       "      <td>0.240016</td>\n",
       "      <td>50</td>\n",
       "      <td>5.956</td>\n",
       "    </tr>\n",
       "    <tr>\n",
       "      <th>70</th>\n",
       "      <td>Hong Kong S.A.R., China</td>\n",
       "      <td>NaN</td>\n",
       "      <td>1.551675</td>\n",
       "      <td>1.262791</td>\n",
       "      <td>0.943062</td>\n",
       "      <td>0.490969</td>\n",
       "      <td>0.293934</td>\n",
       "      <td>0.374466</td>\n",
       "      <td>71</td>\n",
       "      <td>5.472</td>\n",
       "    </tr>\n",
       "    <tr>\n",
       "      <th>92</th>\n",
       "      <td>Somalia</td>\n",
       "      <td>NaN</td>\n",
       "      <td>0.022643</td>\n",
       "      <td>0.721151</td>\n",
       "      <td>0.113989</td>\n",
       "      <td>0.602127</td>\n",
       "      <td>0.282410</td>\n",
       "      <td>0.291631</td>\n",
       "      <td>93</td>\n",
       "      <td>5.151</td>\n",
       "    </tr>\n",
       "    <tr>\n",
       "      <th>110</th>\n",
       "      <td>Namibia</td>\n",
       "      <td>NaN</td>\n",
       "      <td>0.964434</td>\n",
       "      <td>1.098471</td>\n",
       "      <td>0.338612</td>\n",
       "      <td>0.520304</td>\n",
       "      <td>0.093147</td>\n",
       "      <td>0.077134</td>\n",
       "      <td>111</td>\n",
       "      <td>4.574</td>\n",
       "    </tr>\n",
       "    <tr>\n",
       "      <th>146</th>\n",
       "      <td>South Sudan</td>\n",
       "      <td>NaN</td>\n",
       "      <td>0.397249</td>\n",
       "      <td>0.601323</td>\n",
       "      <td>0.163486</td>\n",
       "      <td>0.147062</td>\n",
       "      <td>0.116794</td>\n",
       "      <td>0.285671</td>\n",
       "      <td>147</td>\n",
       "      <td>3.591</td>\n",
       "    </tr>\n",
       "  </tbody>\n",
       "</table>\n",
       "</div>"
      ],
      "text/plain": [
       "                      Country Region  GDP per capita  Social support  \\\n",
       "32   Taiwan Province of China    NaN        1.433627        1.384565   \n",
       "49                     Belize    NaN        0.907975        1.081418   \n",
       "70    Hong Kong S.A.R., China    NaN        1.551675        1.262791   \n",
       "92                    Somalia    NaN        0.022643        0.721151   \n",
       "110                   Namibia    NaN        0.964434        1.098471   \n",
       "146               South Sudan    NaN        0.397249        0.601323   \n",
       "\n",
       "     Life Expectancy   Freedom     Trust  Generosity  Happiness Rank  \\\n",
       "32          0.793984  0.361467  0.063829    0.258360              33   \n",
       "49          0.450192  0.547509  0.096581    0.240016              50   \n",
       "70          0.943062  0.490969  0.293934    0.374466              71   \n",
       "92          0.113989  0.602127  0.282410    0.291631              93   \n",
       "110         0.338612  0.520304  0.093147    0.077134             111   \n",
       "146         0.163486  0.147062  0.116794    0.285671             147   \n",
       "\n",
       "     Happiness Score  \n",
       "32             6.422  \n",
       "49             5.956  \n",
       "70             5.472  \n",
       "92             5.151  \n",
       "110            4.574  \n",
       "146            3.591  "
      ]
     },
     "execution_count": 101,
     "metadata": {},
     "output_type": "execute_result"
    }
   ],
   "source": [
    "df_2017[df_2017['Region'].isna()]"
   ]
  },
  {
   "cell_type": "code",
   "execution_count": 100,
   "metadata": {},
   "outputs": [
    {
     "data": {
      "text/html": [
       "<div>\n",
       "<style scoped>\n",
       "    .dataframe tbody tr th:only-of-type {\n",
       "        vertical-align: middle;\n",
       "    }\n",
       "\n",
       "    .dataframe tbody tr th {\n",
       "        vertical-align: top;\n",
       "    }\n",
       "\n",
       "    .dataframe thead th {\n",
       "        text-align: right;\n",
       "    }\n",
       "</style>\n",
       "<table border=\"1\" class=\"dataframe\">\n",
       "  <thead>\n",
       "    <tr style=\"text-align: right;\">\n",
       "      <th></th>\n",
       "      <th>Country</th>\n",
       "      <th>Region</th>\n",
       "      <th>GDP per capita</th>\n",
       "      <th>Social support</th>\n",
       "      <th>Life Expectancy</th>\n",
       "      <th>Freedom</th>\n",
       "      <th>Trust</th>\n",
       "      <th>Generosity</th>\n",
       "      <th>Happiness Rank</th>\n",
       "      <th>Happiness Score</th>\n",
       "    </tr>\n",
       "  </thead>\n",
       "  <tbody>\n",
       "    <tr>\n",
       "      <th>37</th>\n",
       "      <td>Trinidad &amp; Tobago</td>\n",
       "      <td>NaN</td>\n",
       "      <td>1.223</td>\n",
       "      <td>1.492</td>\n",
       "      <td>0.564</td>\n",
       "      <td>0.575</td>\n",
       "      <td>0.019</td>\n",
       "      <td>0.171</td>\n",
       "      <td>38</td>\n",
       "      <td>6.192</td>\n",
       "    </tr>\n",
       "    <tr>\n",
       "      <th>48</th>\n",
       "      <td>Belize</td>\n",
       "      <td>NaN</td>\n",
       "      <td>0.807</td>\n",
       "      <td>1.101</td>\n",
       "      <td>0.474</td>\n",
       "      <td>0.593</td>\n",
       "      <td>0.089</td>\n",
       "      <td>0.183</td>\n",
       "      <td>49</td>\n",
       "      <td>5.956</td>\n",
       "    </tr>\n",
       "    <tr>\n",
       "      <th>57</th>\n",
       "      <td>Northern Cyprus</td>\n",
       "      <td>NaN</td>\n",
       "      <td>1.229</td>\n",
       "      <td>1.211</td>\n",
       "      <td>0.909</td>\n",
       "      <td>0.495</td>\n",
       "      <td>0.154</td>\n",
       "      <td>0.179</td>\n",
       "      <td>58</td>\n",
       "      <td>5.835</td>\n",
       "    </tr>\n",
       "    <tr>\n",
       "      <th>97</th>\n",
       "      <td>Somalia</td>\n",
       "      <td>NaN</td>\n",
       "      <td>0.000</td>\n",
       "      <td>0.712</td>\n",
       "      <td>0.115</td>\n",
       "      <td>0.674</td>\n",
       "      <td>0.282</td>\n",
       "      <td>0.238</td>\n",
       "      <td>98</td>\n",
       "      <td>4.982</td>\n",
       "    </tr>\n",
       "    <tr>\n",
       "      <th>118</th>\n",
       "      <td>Namibia</td>\n",
       "      <td>NaN</td>\n",
       "      <td>0.874</td>\n",
       "      <td>1.281</td>\n",
       "      <td>0.365</td>\n",
       "      <td>0.519</td>\n",
       "      <td>0.064</td>\n",
       "      <td>0.051</td>\n",
       "      <td>119</td>\n",
       "      <td>4.441</td>\n",
       "    </tr>\n",
       "    <tr>\n",
       "      <th>153</th>\n",
       "      <td>South Sudan</td>\n",
       "      <td>NaN</td>\n",
       "      <td>0.337</td>\n",
       "      <td>0.608</td>\n",
       "      <td>0.177</td>\n",
       "      <td>0.112</td>\n",
       "      <td>0.106</td>\n",
       "      <td>0.224</td>\n",
       "      <td>154</td>\n",
       "      <td>3.254</td>\n",
       "    </tr>\n",
       "  </tbody>\n",
       "</table>\n",
       "</div>"
      ],
      "text/plain": [
       "               Country Region  GDP per capita  Social support  \\\n",
       "37   Trinidad & Tobago    NaN           1.223           1.492   \n",
       "48              Belize    NaN           0.807           1.101   \n",
       "57     Northern Cyprus    NaN           1.229           1.211   \n",
       "97             Somalia    NaN           0.000           0.712   \n",
       "118            Namibia    NaN           0.874           1.281   \n",
       "153        South Sudan    NaN           0.337           0.608   \n",
       "\n",
       "     Life Expectancy  Freedom  Trust  Generosity  Happiness Rank  \\\n",
       "37             0.564    0.575  0.019       0.171              38   \n",
       "48             0.474    0.593  0.089       0.183              49   \n",
       "57             0.909    0.495  0.154       0.179              58   \n",
       "97             0.115    0.674  0.282       0.238              98   \n",
       "118            0.365    0.519  0.064       0.051             119   \n",
       "153            0.177    0.112  0.106       0.224             154   \n",
       "\n",
       "     Happiness Score  \n",
       "37             6.192  \n",
       "48             5.956  \n",
       "57             5.835  \n",
       "97             4.982  \n",
       "118            4.441  \n",
       "153            3.254  "
      ]
     },
     "execution_count": 100,
     "metadata": {},
     "output_type": "execute_result"
    }
   ],
   "source": [
    "df_2018[df_2018['Region'].isna()]"
   ]
  },
  {
   "cell_type": "code",
   "execution_count": 138,
   "metadata": {},
   "outputs": [
    {
     "data": {
      "text/html": [
       "<div>\n",
       "<style scoped>\n",
       "    .dataframe tbody tr th:only-of-type {\n",
       "        vertical-align: middle;\n",
       "    }\n",
       "\n",
       "    .dataframe tbody tr th {\n",
       "        vertical-align: top;\n",
       "    }\n",
       "\n",
       "    .dataframe thead th {\n",
       "        text-align: right;\n",
       "    }\n",
       "</style>\n",
       "<table border=\"1\" class=\"dataframe\">\n",
       "  <thead>\n",
       "    <tr style=\"text-align: right;\">\n",
       "      <th></th>\n",
       "      <th>Country</th>\n",
       "      <th>Region</th>\n",
       "      <th>GDP per capita</th>\n",
       "      <th>Social support</th>\n",
       "      <th>Life Expectancy</th>\n",
       "      <th>Freedom</th>\n",
       "      <th>Trust</th>\n",
       "      <th>Generosity</th>\n",
       "      <th>Happiness Rank</th>\n",
       "      <th>Happiness Score</th>\n",
       "      <th>year</th>\n",
       "    </tr>\n",
       "  </thead>\n",
       "  <tbody>\n",
       "    <tr>\n",
       "      <th>38</th>\n",
       "      <td>Trinidad &amp; Tobago</td>\n",
       "      <td>NaN</td>\n",
       "      <td>1.231</td>\n",
       "      <td>1.477</td>\n",
       "      <td>0.713</td>\n",
       "      <td>0.489</td>\n",
       "      <td>0.016</td>\n",
       "      <td>0.185</td>\n",
       "      <td>39</td>\n",
       "      <td>6.192</td>\n",
       "      <td>2019</td>\n",
       "    </tr>\n",
       "    <tr>\n",
       "      <th>63</th>\n",
       "      <td>Northern Cyprus</td>\n",
       "      <td>NaN</td>\n",
       "      <td>1.263</td>\n",
       "      <td>1.252</td>\n",
       "      <td>1.042</td>\n",
       "      <td>0.417</td>\n",
       "      <td>0.162</td>\n",
       "      <td>0.191</td>\n",
       "      <td>64</td>\n",
       "      <td>5.718</td>\n",
       "      <td>2019</td>\n",
       "    </tr>\n",
       "    <tr>\n",
       "      <th>83</th>\n",
       "      <td>North Macedonia</td>\n",
       "      <td>NaN</td>\n",
       "      <td>0.983</td>\n",
       "      <td>1.294</td>\n",
       "      <td>0.838</td>\n",
       "      <td>0.345</td>\n",
       "      <td>0.034</td>\n",
       "      <td>0.185</td>\n",
       "      <td>84</td>\n",
       "      <td>5.274</td>\n",
       "      <td>2019</td>\n",
       "    </tr>\n",
       "    <tr>\n",
       "      <th>111</th>\n",
       "      <td>Somalia</td>\n",
       "      <td>NaN</td>\n",
       "      <td>0.000</td>\n",
       "      <td>0.698</td>\n",
       "      <td>0.268</td>\n",
       "      <td>0.559</td>\n",
       "      <td>0.270</td>\n",
       "      <td>0.243</td>\n",
       "      <td>112</td>\n",
       "      <td>4.668</td>\n",
       "      <td>2019</td>\n",
       "    </tr>\n",
       "    <tr>\n",
       "      <th>112</th>\n",
       "      <td>Namibia</td>\n",
       "      <td>NaN</td>\n",
       "      <td>0.879</td>\n",
       "      <td>1.313</td>\n",
       "      <td>0.477</td>\n",
       "      <td>0.401</td>\n",
       "      <td>0.056</td>\n",
       "      <td>0.070</td>\n",
       "      <td>113</td>\n",
       "      <td>4.639</td>\n",
       "      <td>2019</td>\n",
       "    </tr>\n",
       "    <tr>\n",
       "      <th>119</th>\n",
       "      <td>Gambia</td>\n",
       "      <td>NaN</td>\n",
       "      <td>0.308</td>\n",
       "      <td>0.939</td>\n",
       "      <td>0.428</td>\n",
       "      <td>0.382</td>\n",
       "      <td>0.167</td>\n",
       "      <td>0.269</td>\n",
       "      <td>120</td>\n",
       "      <td>4.516</td>\n",
       "      <td>2019</td>\n",
       "    </tr>\n",
       "    <tr>\n",
       "      <th>155</th>\n",
       "      <td>South Sudan</td>\n",
       "      <td>NaN</td>\n",
       "      <td>0.306</td>\n",
       "      <td>0.575</td>\n",
       "      <td>0.295</td>\n",
       "      <td>0.010</td>\n",
       "      <td>0.091</td>\n",
       "      <td>0.202</td>\n",
       "      <td>156</td>\n",
       "      <td>2.853</td>\n",
       "      <td>2019</td>\n",
       "    </tr>\n",
       "  </tbody>\n",
       "</table>\n",
       "</div>"
      ],
      "text/plain": [
       "               Country Region  GDP per capita  Social support  \\\n",
       "38   Trinidad & Tobago    NaN           1.231           1.477   \n",
       "63     Northern Cyprus    NaN           1.263           1.252   \n",
       "83     North Macedonia    NaN           0.983           1.294   \n",
       "111            Somalia    NaN           0.000           0.698   \n",
       "112            Namibia    NaN           0.879           1.313   \n",
       "119             Gambia    NaN           0.308           0.939   \n",
       "155        South Sudan    NaN           0.306           0.575   \n",
       "\n",
       "     Life Expectancy  Freedom  Trust  Generosity  Happiness Rank  \\\n",
       "38             0.713    0.489  0.016       0.185              39   \n",
       "63             1.042    0.417  0.162       0.191              64   \n",
       "83             0.838    0.345  0.034       0.185              84   \n",
       "111            0.268    0.559  0.270       0.243             112   \n",
       "112            0.477    0.401  0.056       0.070             113   \n",
       "119            0.428    0.382  0.167       0.269             120   \n",
       "155            0.295    0.010  0.091       0.202             156   \n",
       "\n",
       "     Happiness Score  year  \n",
       "38             6.192  2019  \n",
       "63             5.718  2019  \n",
       "83             5.274  2019  \n",
       "111            4.668  2019  \n",
       "112            4.639  2019  \n",
       "119            4.516  2019  \n",
       "155            2.853  2019  "
      ]
     },
     "execution_count": 138,
     "metadata": {},
     "output_type": "execute_result"
    }
   ],
   "source": [
    "df_2019[df_2019['Region'].isna()]"
   ]
  },
  {
   "cell_type": "code",
   "execution_count": 105,
   "metadata": {},
   "outputs": [],
   "source": [
    "# Leave the negligible null Regions for now.\n",
    "\n",
    "# 2020 to 2023 do not have the final variables of Happiness Rank or Happiness Score, so we may not be able to use them."
   ]
  },
  {
   "cell_type": "code",
   "execution_count": 141,
   "metadata": {},
   "outputs": [
    {
     "data": {
      "text/html": [
       "<div>\n",
       "<style scoped>\n",
       "    .dataframe tbody tr th:only-of-type {\n",
       "        vertical-align: middle;\n",
       "    }\n",
       "\n",
       "    .dataframe tbody tr th {\n",
       "        vertical-align: top;\n",
       "    }\n",
       "\n",
       "    .dataframe thead th {\n",
       "        text-align: right;\n",
       "    }\n",
       "</style>\n",
       "<table border=\"1\" class=\"dataframe\">\n",
       "  <thead>\n",
       "    <tr style=\"text-align: right;\">\n",
       "      <th></th>\n",
       "      <th>Country</th>\n",
       "      <th>Region</th>\n",
       "      <th>GDP per capita</th>\n",
       "      <th>Social support</th>\n",
       "      <th>Life Expectancy</th>\n",
       "      <th>Freedom</th>\n",
       "      <th>Trust</th>\n",
       "      <th>Generosity</th>\n",
       "      <th>Happiness Rank</th>\n",
       "      <th>Happiness Score</th>\n",
       "      <th>year</th>\n",
       "    </tr>\n",
       "  </thead>\n",
       "  <tbody>\n",
       "    <tr>\n",
       "      <th>112</th>\n",
       "      <td>Namibia</td>\n",
       "      <td>Sub-Saharan Africa</td>\n",
       "      <td>0.879</td>\n",
       "      <td>1.313</td>\n",
       "      <td>0.477</td>\n",
       "      <td>0.401</td>\n",
       "      <td>0.056</td>\n",
       "      <td>0.07</td>\n",
       "      <td>113</td>\n",
       "      <td>4.639</td>\n",
       "      <td>2019</td>\n",
       "    </tr>\n",
       "  </tbody>\n",
       "</table>\n",
       "</div>"
      ],
      "text/plain": [
       "     Country              Region  GDP per capita  Social support  \\\n",
       "112  Namibia  Sub-Saharan Africa           0.879           1.313   \n",
       "\n",
       "     Life Expectancy  Freedom  Trust  Generosity  Happiness Rank  \\\n",
       "112            0.477    0.401  0.056        0.07             113   \n",
       "\n",
       "     Happiness Score  year  \n",
       "112            4.639  2019  "
      ]
     },
     "execution_count": 141,
     "metadata": {},
     "output_type": "execute_result"
    }
   ],
   "source": [
    "df_2019[df_2019['Country'] == 'Namibia']"
   ]
  },
  {
   "cell_type": "code",
   "execution_count": 131,
   "metadata": {},
   "outputs": [],
   "source": [
    "df_2021 = df_2021.rename(columns = {'Country name': 'Country', 'Regional indicator': 'Region'}, inplace=False)"
   ]
  },
  {
   "cell_type": "code",
   "execution_count": 132,
   "metadata": {},
   "outputs": [
    {
     "data": {
      "text/html": [
       "<div>\n",
       "<style scoped>\n",
       "    .dataframe tbody tr th:only-of-type {\n",
       "        vertical-align: middle;\n",
       "    }\n",
       "\n",
       "    .dataframe tbody tr th {\n",
       "        vertical-align: top;\n",
       "    }\n",
       "\n",
       "    .dataframe thead th {\n",
       "        text-align: right;\n",
       "    }\n",
       "</style>\n",
       "<table border=\"1\" class=\"dataframe\">\n",
       "  <thead>\n",
       "    <tr style=\"text-align: right;\">\n",
       "      <th></th>\n",
       "      <th>Country</th>\n",
       "      <th>Region</th>\n",
       "      <th>Ladder score</th>\n",
       "      <th>Standard error of ladder score</th>\n",
       "      <th>upperwhisker</th>\n",
       "      <th>lowerwhisker</th>\n",
       "      <th>Logged GDP per capita</th>\n",
       "      <th>Social support</th>\n",
       "      <th>Healthy life expectancy</th>\n",
       "      <th>Freedom to make life choices</th>\n",
       "      <th>...</th>\n",
       "      <th>Perceptions of corruption</th>\n",
       "      <th>Ladder score in Dystopia</th>\n",
       "      <th>Explained by: Log GDP per capita</th>\n",
       "      <th>Explained by: Social support</th>\n",
       "      <th>Explained by: Healthy life expectancy</th>\n",
       "      <th>Explained by: Freedom to make life choices</th>\n",
       "      <th>Explained by: Generosity</th>\n",
       "      <th>Explained by: Perceptions of corruption</th>\n",
       "      <th>Dystopia + residual</th>\n",
       "      <th>year</th>\n",
       "    </tr>\n",
       "  </thead>\n",
       "  <tbody>\n",
       "    <tr>\n",
       "      <th>23</th>\n",
       "      <td>Taiwan Province of China</td>\n",
       "      <td>East Asia</td>\n",
       "      <td>6.584</td>\n",
       "      <td>0.038</td>\n",
       "      <td>6.659</td>\n",
       "      <td>6.510</td>\n",
       "      <td>10.871</td>\n",
       "      <td>0.898</td>\n",
       "      <td>69.600</td>\n",
       "      <td>0.784</td>\n",
       "      <td>...</td>\n",
       "      <td>0.721</td>\n",
       "      <td>2.43</td>\n",
       "      <td>1.480</td>\n",
       "      <td>0.982</td>\n",
       "      <td>0.665</td>\n",
       "      <td>0.490</td>\n",
       "      <td>0.142</td>\n",
       "      <td>0.139</td>\n",
       "      <td>2.687</td>\n",
       "      <td>2021</td>\n",
       "    </tr>\n",
       "    <tr>\n",
       "      <th>93</th>\n",
       "      <td>North Macedonia</td>\n",
       "      <td>Central and Eastern Europe</td>\n",
       "      <td>5.101</td>\n",
       "      <td>0.051</td>\n",
       "      <td>5.202</td>\n",
       "      <td>5.001</td>\n",
       "      <td>9.693</td>\n",
       "      <td>0.805</td>\n",
       "      <td>65.474</td>\n",
       "      <td>0.751</td>\n",
       "      <td>...</td>\n",
       "      <td>0.905</td>\n",
       "      <td>2.43</td>\n",
       "      <td>1.068</td>\n",
       "      <td>0.772</td>\n",
       "      <td>0.535</td>\n",
       "      <td>0.450</td>\n",
       "      <td>0.212</td>\n",
       "      <td>0.022</td>\n",
       "      <td>2.042</td>\n",
       "      <td>2021</td>\n",
       "    </tr>\n",
       "    <tr>\n",
       "      <th>97</th>\n",
       "      <td>Gambia</td>\n",
       "      <td>Sub-Saharan Africa</td>\n",
       "      <td>5.051</td>\n",
       "      <td>0.089</td>\n",
       "      <td>5.225</td>\n",
       "      <td>4.877</td>\n",
       "      <td>7.686</td>\n",
       "      <td>0.690</td>\n",
       "      <td>55.160</td>\n",
       "      <td>0.697</td>\n",
       "      <td>...</td>\n",
       "      <td>0.746</td>\n",
       "      <td>2.43</td>\n",
       "      <td>0.367</td>\n",
       "      <td>0.511</td>\n",
       "      <td>0.210</td>\n",
       "      <td>0.384</td>\n",
       "      <td>0.465</td>\n",
       "      <td>0.123</td>\n",
       "      <td>2.990</td>\n",
       "      <td>2021</td>\n",
       "    </tr>\n",
       "    <tr>\n",
       "      <th>123</th>\n",
       "      <td>Namibia</td>\n",
       "      <td>Sub-Saharan Africa</td>\n",
       "      <td>4.574</td>\n",
       "      <td>0.064</td>\n",
       "      <td>4.700</td>\n",
       "      <td>4.448</td>\n",
       "      <td>9.161</td>\n",
       "      <td>0.818</td>\n",
       "      <td>56.799</td>\n",
       "      <td>0.719</td>\n",
       "      <td>...</td>\n",
       "      <td>0.847</td>\n",
       "      <td>2.43</td>\n",
       "      <td>0.882</td>\n",
       "      <td>0.801</td>\n",
       "      <td>0.262</td>\n",
       "      <td>0.411</td>\n",
       "      <td>0.091</td>\n",
       "      <td>0.059</td>\n",
       "      <td>2.068</td>\n",
       "      <td>2021</td>\n",
       "    </tr>\n",
       "  </tbody>\n",
       "</table>\n",
       "<p>4 rows × 21 columns</p>\n",
       "</div>"
      ],
      "text/plain": [
       "                      Country                      Region  Ladder score  \\\n",
       "23   Taiwan Province of China                   East Asia         6.584   \n",
       "93            North Macedonia  Central and Eastern Europe         5.101   \n",
       "97                     Gambia          Sub-Saharan Africa         5.051   \n",
       "123                   Namibia          Sub-Saharan Africa         4.574   \n",
       "\n",
       "     Standard error of ladder score  upperwhisker  lowerwhisker  \\\n",
       "23                            0.038         6.659         6.510   \n",
       "93                            0.051         5.202         5.001   \n",
       "97                            0.089         5.225         4.877   \n",
       "123                           0.064         4.700         4.448   \n",
       "\n",
       "     Logged GDP per capita  Social support  Healthy life expectancy  \\\n",
       "23                  10.871           0.898                   69.600   \n",
       "93                   9.693           0.805                   65.474   \n",
       "97                   7.686           0.690                   55.160   \n",
       "123                  9.161           0.818                   56.799   \n",
       "\n",
       "     Freedom to make life choices  ...  Perceptions of corruption  \\\n",
       "23                          0.784  ...                      0.721   \n",
       "93                          0.751  ...                      0.905   \n",
       "97                          0.697  ...                      0.746   \n",
       "123                         0.719  ...                      0.847   \n",
       "\n",
       "     Ladder score in Dystopia  Explained by: Log GDP per capita  \\\n",
       "23                       2.43                             1.480   \n",
       "93                       2.43                             1.068   \n",
       "97                       2.43                             0.367   \n",
       "123                      2.43                             0.882   \n",
       "\n",
       "     Explained by: Social support  Explained by: Healthy life expectancy  \\\n",
       "23                          0.982                                  0.665   \n",
       "93                          0.772                                  0.535   \n",
       "97                          0.511                                  0.210   \n",
       "123                         0.801                                  0.262   \n",
       "\n",
       "     Explained by: Freedom to make life choices  Explained by: Generosity  \\\n",
       "23                                        0.490                     0.142   \n",
       "93                                        0.450                     0.212   \n",
       "97                                        0.384                     0.465   \n",
       "123                                       0.411                     0.091   \n",
       "\n",
       "     Explained by: Perceptions of corruption  Dystopia + residual  year  \n",
       "23                                     0.139                2.687  2021  \n",
       "93                                     0.022                2.042  2021  \n",
       "97                                     0.123                2.990  2021  \n",
       "123                                    0.059                2.068  2021  \n",
       "\n",
       "[4 rows x 21 columns]"
      ]
     },
     "execution_count": 132,
     "metadata": {},
     "output_type": "execute_result"
    }
   ],
   "source": [
    "df_2021[df_2021['Country'].isin(['South Sudan', 'Gambia', 'Namibia', 'Somalia', 'North Macedonia',\n",
    "                                      'Northern Cyprus', 'Trinidad & Tobago', 'Belize',\n",
    "                                      'Hong Kong S.A.R., China', 'Taiwan Province of China'])]"
   ]
  },
  {
   "cell_type": "code",
   "execution_count": 175,
   "metadata": {},
   "outputs": [],
   "source": [
    "df_2017 = pd.read_csv(\"../data/clean/2017.csv\")\n",
    "df_2018 = pd.read_csv(\"../data/clean/2018.csv\")\n",
    "df_2019 = pd.read_csv(\"../data/clean/2019.csv\")"
   ]
  },
  {
   "cell_type": "code",
   "execution_count": 177,
   "metadata": {},
   "outputs": [],
   "source": [
    "# Filling in Region from df_2021 values\n",
    "\n",
    "df_2019.loc[df_2019['Country'] == 'Namibia', 'Region'] = 'Sub-Saharan Africa'\n",
    "df_2019.loc[df_2019['Country'] == 'Gambia', 'Region'] = 'Sub-Saharan Africa'\n",
    "df_2019.loc[df_2019['Country'] == 'North Macedonia', 'Region'] = 'Central and Eastern Europe'\n",
    "df_2019.loc[df_2019['Country'] == 'Taiwan Province of China', 'Region'] = 'East Asia'\n",
    "df_2019.loc[df_2019['Country'] == 'South Sudan', 'Region'] = 'Sub-Saharan Africa'\n",
    "df_2019.loc[df_2019['Country'] == 'Somalia', 'Region'] = 'Sub-Saharan Africa'\n",
    "df_2019.loc[df_2019['Country'] == 'Northern Cyprus', 'Region'] = 'Middle East and Northern Cyprus'\n",
    "df_2019.loc[df_2019['Country'] == 'Trinidad & Tobago', 'Region'] = 'Latin America and Caribbean'\n",
    "df_2019.loc[df_2019['Country'] == 'Belize', 'Region'] = 'Latin America and Caribbean'\n",
    "df_2019.loc[df_2019['Country'] == 'Hong Kong S.A.R., China', 'Region'] = 'East Asia'\n",
    "\n",
    "df_2018.loc[df_2018['Country'] == 'Namibia', 'Region'] = 'Sub-Saharan Africa'\n",
    "df_2018.loc[df_2018['Country'] == 'Gambia', 'Region'] = 'Sub-Saharan Africa'\n",
    "df_2018.loc[df_2018['Country'] == 'North Macedonia', 'Region'] = 'Central and Eastern Europe'\n",
    "df_2018.loc[df_2018['Country'] == 'Taiwan Province of China', 'Region'] = 'East Asia'\n",
    "df_2018.loc[df_2018['Country'] == 'South Sudan', 'Region'] = 'Sub-Saharan Africa'\n",
    "df_2018.loc[df_2018['Country'] == 'Somalia', 'Region'] = 'Sub-Saharan Africa'\n",
    "df_2018.loc[df_2018['Country'] == 'Northern Cyprus', 'Region'] = 'Middle East and Northern Cyprus'\n",
    "df_2018.loc[df_2018['Country'] == 'Trinidad & Tobago', 'Region'] = 'Latin America and Caribbean'\n",
    "df_2018.loc[df_2018['Country'] == 'Belize', 'Region'] = 'Latin America and Caribbean'\n",
    "df_2018.loc[df_2018['Country'] == 'Hong Kong S.A.R., China', 'Region'] = 'East Asia'\n",
    "\n",
    "df_2017.loc[df_2017['Country'] == 'Namibia', 'Region'] = 'Sub-Saharan Africa'\n",
    "df_2017.loc[df_2017['Country'] == 'Gambia', 'Region'] = 'Sub-Saharan Africa'\n",
    "df_2017.loc[df_2017['Country'] == 'North Macedonia', 'Region'] = 'Central and Eastern Europe'\n",
    "df_2017.loc[df_2017['Country'] == 'Taiwan Province of China', 'Region'] = 'East Asia'\n",
    "df_2017.loc[df_2017['Country'] == 'South Sudan', 'Region'] = 'Sub-Saharan Africa'\n",
    "df_2017.loc[df_2017['Country'] == 'Somalia', 'Region'] = 'Sub-Saharan Africa'\n",
    "df_2017.loc[df_2017['Country'] == 'Northern Cyprus', 'Region'] = 'Middle East and Northern Cyprus'\n",
    "df_2017.loc[df_2017['Country'] == 'Trinidad & Tobago', 'Region'] = 'Latin America and Caribbean'\n",
    "df_2017.loc[df_2017['Country'] == 'Belize', 'Region'] = 'Latin America and Caribbean'\n",
    "df_2017.loc[df_2017['Country'] == 'Hong Kong S.A.R., China', 'Region'] = 'East Asia'"
   ]
  },
  {
   "cell_type": "markdown",
   "metadata": {},
   "source": [
    "Namibia: Sub-Saharan Africa\n",
    "Gambia: Sub-Saharan Africa\n",
    "North Macedonia: Central and Eastern Europe\n",
    "Taiwan Province of China: East Asia\n",
    "\n",
    "\n",
    "South Sudan: Sub-Saharan Africa\n",
    "Somalia: Sub-Saharan Africa\n",
    "\n",
    "Northern Cyprus: Middle East and Northern Cyprus\n",
    "\n",
    "\n",
    "Trinidad & Tobago: Latin America and Caribbean\n",
    "Belize: Latin America and Caribbean\n",
    "Hong Kong S.A.R., China: East Asia"
   ]
  },
  {
   "cell_type": "code",
   "execution_count": 190,
   "metadata": {},
   "outputs": [
    {
     "name": "stdout",
     "output_type": "stream",
     "text": [
      "2015 doesn't have nan values\n",
      "2016 doesn't have nan values\n",
      "2017 doesn't have nan values\n",
      "2018 doesn't have nan values\n",
      "2019 doesn't have nan values\n"
     ]
    }
   ],
   "source": [
    "years_list = [df_2015, df_2016, df_2017, df_2018, df_2019]\n",
    "for index, year in enumerate(years_list):\n",
    "    nan_status = year.isna().values.any()\n",
    "    if nan_status:\n",
    "        print(2015+index, \"has nan values\")\n",
    "    else:\n",
    "        print(2015+index, \"doesn't have nan values\")"
   ]
  },
  {
   "cell_type": "code",
   "execution_count": 191,
   "metadata": {},
   "outputs": [
    {
     "name": "stdout",
     "output_type": "stream",
     "text": [
      "2015 doesn't have null values\n",
      "2016 doesn't have null values\n",
      "2017 doesn't have null values\n",
      "2018 doesn't have null values\n",
      "2019 doesn't have null values\n"
     ]
    }
   ],
   "source": [
    "years_list = [df_2015, df_2016, df_2017, df_2018, df_2019]\n",
    "for index, year in enumerate(years_list):\n",
    "    null_status = year.isnull().values.any()\n",
    "    if null_status:\n",
    "        print(2015+index, \"has null values\")\n",
    "    else:\n",
    "        print(2015+index, \"doesn't have null values\")"
   ]
  },
  {
   "cell_type": "code",
   "execution_count": 189,
   "metadata": {},
   "outputs": [],
   "source": [
    "df_2015.to_csv(\"../data/clean/2015.csv\", index=False)\n",
    "df_2016.to_csv(\"../data/clean/2016.csv\", index=False)\n",
    "df_2017.to_csv(\"../data/clean/2017.csv\", index=False)\n",
    "df_2018.to_csv(\"../data/clean/2018.csv\", index=False)\n",
    "df_2019.to_csv(\"../data/clean/2019.csv\", index=False)"
   ]
  },
  {
   "cell_type": "code",
   "execution_count": null,
   "metadata": {},
   "outputs": [],
   "source": []
  },
  {
   "cell_type": "code",
   "execution_count": 182,
   "metadata": {},
   "outputs": [],
   "source": [
    "# Creating a column for year to aid visualization\n",
    "\n",
    "for index, year_df in enumerate(years_list):\n",
    "    year_df = year_df.copy()\n",
    "    year_df.loc[:, 'year'] = 2015 + index"
   ]
  },
  {
   "cell_type": "code",
   "execution_count": 188,
   "metadata": {},
   "outputs": [
    {
     "data": {
      "text/html": [
       "<div>\n",
       "<style scoped>\n",
       "    .dataframe tbody tr th:only-of-type {\n",
       "        vertical-align: middle;\n",
       "    }\n",
       "\n",
       "    .dataframe tbody tr th {\n",
       "        vertical-align: top;\n",
       "    }\n",
       "\n",
       "    .dataframe thead th {\n",
       "        text-align: right;\n",
       "    }\n",
       "</style>\n",
       "<table border=\"1\" class=\"dataframe\">\n",
       "  <thead>\n",
       "    <tr style=\"text-align: right;\">\n",
       "      <th></th>\n",
       "      <th>Country</th>\n",
       "      <th>Region</th>\n",
       "      <th>GDP per capita</th>\n",
       "      <th>Social support</th>\n",
       "      <th>Life Expectancy</th>\n",
       "      <th>Freedom</th>\n",
       "      <th>Trust</th>\n",
       "      <th>Generosity</th>\n",
       "      <th>Happiness Rank</th>\n",
       "      <th>Happiness Score</th>\n",
       "      <th>year</th>\n",
       "    </tr>\n",
       "  </thead>\n",
       "  <tbody>\n",
       "    <tr>\n",
       "      <th>0</th>\n",
       "      <td>Finland</td>\n",
       "      <td>Western Europe</td>\n",
       "      <td>1.340</td>\n",
       "      <td>1.587</td>\n",
       "      <td>0.986</td>\n",
       "      <td>0.596</td>\n",
       "      <td>0.393</td>\n",
       "      <td>0.153</td>\n",
       "      <td>1</td>\n",
       "      <td>7.769</td>\n",
       "      <td>2019</td>\n",
       "    </tr>\n",
       "    <tr>\n",
       "      <th>1</th>\n",
       "      <td>Denmark</td>\n",
       "      <td>Western Europe</td>\n",
       "      <td>1.383</td>\n",
       "      <td>1.573</td>\n",
       "      <td>0.996</td>\n",
       "      <td>0.592</td>\n",
       "      <td>0.410</td>\n",
       "      <td>0.252</td>\n",
       "      <td>2</td>\n",
       "      <td>7.600</td>\n",
       "      <td>2019</td>\n",
       "    </tr>\n",
       "    <tr>\n",
       "      <th>2</th>\n",
       "      <td>Norway</td>\n",
       "      <td>Western Europe</td>\n",
       "      <td>1.488</td>\n",
       "      <td>1.582</td>\n",
       "      <td>1.028</td>\n",
       "      <td>0.603</td>\n",
       "      <td>0.341</td>\n",
       "      <td>0.271</td>\n",
       "      <td>3</td>\n",
       "      <td>7.554</td>\n",
       "      <td>2019</td>\n",
       "    </tr>\n",
       "    <tr>\n",
       "      <th>3</th>\n",
       "      <td>Iceland</td>\n",
       "      <td>Western Europe</td>\n",
       "      <td>1.380</td>\n",
       "      <td>1.624</td>\n",
       "      <td>1.026</td>\n",
       "      <td>0.591</td>\n",
       "      <td>0.118</td>\n",
       "      <td>0.354</td>\n",
       "      <td>4</td>\n",
       "      <td>7.494</td>\n",
       "      <td>2019</td>\n",
       "    </tr>\n",
       "    <tr>\n",
       "      <th>4</th>\n",
       "      <td>Netherlands</td>\n",
       "      <td>Western Europe</td>\n",
       "      <td>1.396</td>\n",
       "      <td>1.522</td>\n",
       "      <td>0.999</td>\n",
       "      <td>0.557</td>\n",
       "      <td>0.298</td>\n",
       "      <td>0.322</td>\n",
       "      <td>5</td>\n",
       "      <td>7.488</td>\n",
       "      <td>2019</td>\n",
       "    </tr>\n",
       "  </tbody>\n",
       "</table>\n",
       "</div>"
      ],
      "text/plain": [
       "       Country          Region  GDP per capita  Social support  \\\n",
       "0      Finland  Western Europe           1.340           1.587   \n",
       "1      Denmark  Western Europe           1.383           1.573   \n",
       "2       Norway  Western Europe           1.488           1.582   \n",
       "3      Iceland  Western Europe           1.380           1.624   \n",
       "4  Netherlands  Western Europe           1.396           1.522   \n",
       "\n",
       "   Life Expectancy  Freedom  Trust  Generosity  Happiness Rank  \\\n",
       "0            0.986    0.596  0.393       0.153               1   \n",
       "1            0.996    0.592  0.410       0.252               2   \n",
       "2            1.028    0.603  0.341       0.271               3   \n",
       "3            1.026    0.591  0.118       0.354               4   \n",
       "4            0.999    0.557  0.298       0.322               5   \n",
       "\n",
       "   Happiness Score  year  \n",
       "0            7.769  2019  \n",
       "1            7.600  2019  \n",
       "2            7.554  2019  \n",
       "3            7.494  2019  \n",
       "4            7.488  2019  "
      ]
     },
     "execution_count": 188,
     "metadata": {},
     "output_type": "execute_result"
    }
   ],
   "source": [
    "df_2019.head()"
   ]
  },
  {
   "cell_type": "code",
   "execution_count": 193,
   "metadata": {},
   "outputs": [
    {
     "data": {
      "text/html": [
       "<div>\n",
       "<style scoped>\n",
       "    .dataframe tbody tr th:only-of-type {\n",
       "        vertical-align: middle;\n",
       "    }\n",
       "\n",
       "    .dataframe tbody tr th {\n",
       "        vertical-align: top;\n",
       "    }\n",
       "\n",
       "    .dataframe thead th {\n",
       "        text-align: right;\n",
       "    }\n",
       "</style>\n",
       "<table border=\"1\" class=\"dataframe\">\n",
       "  <thead>\n",
       "    <tr style=\"text-align: right;\">\n",
       "      <th></th>\n",
       "      <th>Country</th>\n",
       "      <th>Region</th>\n",
       "      <th>GDP per capita</th>\n",
       "      <th>Social support</th>\n",
       "      <th>Life Expectancy</th>\n",
       "      <th>Freedom</th>\n",
       "      <th>Trust</th>\n",
       "      <th>Generosity</th>\n",
       "      <th>Happiness Rank</th>\n",
       "      <th>Happiness Score</th>\n",
       "      <th>year</th>\n",
       "    </tr>\n",
       "  </thead>\n",
       "  <tbody>\n",
       "    <tr>\n",
       "      <th>72</th>\n",
       "      <td>Estonia</td>\n",
       "      <td>Central and Eastern Europe</td>\n",
       "      <td>1.151740</td>\n",
       "      <td>1.227910</td>\n",
       "      <td>0.773610</td>\n",
       "      <td>0.448880</td>\n",
       "      <td>0.151840</td>\n",
       "      <td>0.086800</td>\n",
       "      <td>73</td>\n",
       "      <td>5.429</td>\n",
       "      <td>2015</td>\n",
       "    </tr>\n",
       "    <tr>\n",
       "      <th>149</th>\n",
       "      <td>Malawi</td>\n",
       "      <td>Sub-Saharan Africa</td>\n",
       "      <td>0.191000</td>\n",
       "      <td>0.560000</td>\n",
       "      <td>0.495000</td>\n",
       "      <td>0.443000</td>\n",
       "      <td>0.089000</td>\n",
       "      <td>0.218000</td>\n",
       "      <td>150</td>\n",
       "      <td>3.410</td>\n",
       "      <td>2019</td>\n",
       "    </tr>\n",
       "    <tr>\n",
       "      <th>114</th>\n",
       "      <td>Bangladesh</td>\n",
       "      <td>Southern Asia</td>\n",
       "      <td>0.532000</td>\n",
       "      <td>0.850000</td>\n",
       "      <td>0.579000</td>\n",
       "      <td>0.580000</td>\n",
       "      <td>0.144000</td>\n",
       "      <td>0.153000</td>\n",
       "      <td>115</td>\n",
       "      <td>4.500</td>\n",
       "      <td>2018</td>\n",
       "    </tr>\n",
       "    <tr>\n",
       "      <th>71</th>\n",
       "      <td>Philippines</td>\n",
       "      <td>Southeastern Asia</td>\n",
       "      <td>0.857699</td>\n",
       "      <td>1.253918</td>\n",
       "      <td>0.468009</td>\n",
       "      <td>0.585215</td>\n",
       "      <td>0.099332</td>\n",
       "      <td>0.193513</td>\n",
       "      <td>72</td>\n",
       "      <td>5.430</td>\n",
       "      <td>2017</td>\n",
       "    </tr>\n",
       "    <tr>\n",
       "      <th>36</th>\n",
       "      <td>Bahrain</td>\n",
       "      <td>Middle East and Northern Africa</td>\n",
       "      <td>1.362000</td>\n",
       "      <td>1.368000</td>\n",
       "      <td>0.871000</td>\n",
       "      <td>0.536000</td>\n",
       "      <td>0.110000</td>\n",
       "      <td>0.255000</td>\n",
       "      <td>37</td>\n",
       "      <td>6.199</td>\n",
       "      <td>2019</td>\n",
       "    </tr>\n",
       "    <tr>\n",
       "      <th>106</th>\n",
       "      <td>Tunisia</td>\n",
       "      <td>Middle East and Northern Africa</td>\n",
       "      <td>0.881130</td>\n",
       "      <td>0.604290</td>\n",
       "      <td>0.737930</td>\n",
       "      <td>0.262680</td>\n",
       "      <td>0.063580</td>\n",
       "      <td>0.064310</td>\n",
       "      <td>107</td>\n",
       "      <td>4.739</td>\n",
       "      <td>2015</td>\n",
       "    </tr>\n",
       "    <tr>\n",
       "      <th>17</th>\n",
       "      <td>Ireland</td>\n",
       "      <td>Western Europe</td>\n",
       "      <td>1.335960</td>\n",
       "      <td>1.369480</td>\n",
       "      <td>0.895330</td>\n",
       "      <td>0.617770</td>\n",
       "      <td>0.287030</td>\n",
       "      <td>0.459010</td>\n",
       "      <td>18</td>\n",
       "      <td>6.940</td>\n",
       "      <td>2015</td>\n",
       "    </tr>\n",
       "  </tbody>\n",
       "</table>\n",
       "</div>"
      ],
      "text/plain": [
       "         Country                           Region  GDP per capita  \\\n",
       "72       Estonia       Central and Eastern Europe        1.151740   \n",
       "149       Malawi               Sub-Saharan Africa        0.191000   \n",
       "114   Bangladesh                    Southern Asia        0.532000   \n",
       "71   Philippines                Southeastern Asia        0.857699   \n",
       "36       Bahrain  Middle East and Northern Africa        1.362000   \n",
       "106      Tunisia  Middle East and Northern Africa        0.881130   \n",
       "17       Ireland                   Western Europe        1.335960   \n",
       "\n",
       "     Social support  Life Expectancy   Freedom     Trust  Generosity  \\\n",
       "72         1.227910         0.773610  0.448880  0.151840    0.086800   \n",
       "149        0.560000         0.495000  0.443000  0.089000    0.218000   \n",
       "114        0.850000         0.579000  0.580000  0.144000    0.153000   \n",
       "71         1.253918         0.468009  0.585215  0.099332    0.193513   \n",
       "36         1.368000         0.871000  0.536000  0.110000    0.255000   \n",
       "106        0.604290         0.737930  0.262680  0.063580    0.064310   \n",
       "17         1.369480         0.895330  0.617770  0.287030    0.459010   \n",
       "\n",
       "     Happiness Rank  Happiness Score  year  \n",
       "72               73            5.429  2015  \n",
       "149             150            3.410  2019  \n",
       "114             115            4.500  2018  \n",
       "71               72            5.430  2017  \n",
       "36               37            6.199  2019  \n",
       "106             107            4.739  2015  \n",
       "17               18            6.940  2015  "
      ]
     },
     "execution_count": 193,
     "metadata": {},
     "output_type": "execute_result"
    }
   ],
   "source": [
    "df_15to19 = pd.concat([df_2015, df_2016, df_2017, df_2018, df_2019])\n",
    "df_15to19.sample(7)"
   ]
  },
  {
   "cell_type": "code",
   "execution_count": 197,
   "metadata": {},
   "outputs": [
    {
     "data": {
      "text/plain": [
       "(782, 11)"
      ]
     },
     "execution_count": 197,
     "metadata": {},
     "output_type": "execute_result"
    }
   ],
   "source": [
    "df_15to19.shape"
   ]
  },
  {
   "cell_type": "code",
   "execution_count": 199,
   "metadata": {},
   "outputs": [
    {
     "data": {
      "text/plain": [
       "0"
      ]
     },
     "execution_count": 199,
     "metadata": {},
     "output_type": "execute_result"
    }
   ],
   "source": [
    "df_15to19.duplicated().sum()"
   ]
  },
  {
   "cell_type": "code",
   "execution_count": 200,
   "metadata": {},
   "outputs": [
    {
     "data": {
      "text/plain": [
       "Country            0\n",
       "Region             0\n",
       "GDP per capita     0\n",
       "Social support     0\n",
       "Life Expectancy    0\n",
       "Freedom            0\n",
       "Trust              0\n",
       "Generosity         0\n",
       "Happiness Rank     0\n",
       "Happiness Score    0\n",
       "year               0\n",
       "dtype: int64"
      ]
     },
     "execution_count": 200,
     "metadata": {},
     "output_type": "execute_result"
    }
   ],
   "source": [
    "df_15to19.isna().sum()"
   ]
  },
  {
   "cell_type": "code",
   "execution_count": 201,
   "metadata": {},
   "outputs": [
    {
     "data": {
      "text/plain": [
       "Country            0\n",
       "Region             0\n",
       "GDP per capita     0\n",
       "Social support     0\n",
       "Life Expectancy    0\n",
       "Freedom            0\n",
       "Trust              0\n",
       "Generosity         0\n",
       "Happiness Rank     0\n",
       "Happiness Score    0\n",
       "year               0\n",
       "dtype: int64"
      ]
     },
     "execution_count": 201,
     "metadata": {},
     "output_type": "execute_result"
    }
   ],
   "source": [
    "df_15to19.isnull().sum()"
   ]
  },
  {
   "cell_type": "code",
   "execution_count": 202,
   "metadata": {},
   "outputs": [],
   "source": [
    "df_15to19.to_csv(\"../data/clean/2015to2019.csv\", index=False)"
   ]
  }
 ],
 "metadata": {
  "kernelspec": {
   "display_name": "base",
   "language": "python",
   "name": "python3"
  },
  "language_info": {
   "codemirror_mode": {
    "name": "ipython",
    "version": 3
   },
   "file_extension": ".py",
   "mimetype": "text/x-python",
   "name": "python",
   "nbconvert_exporter": "python",
   "pygments_lexer": "ipython3",
   "version": "3.11.4"
  },
  "orig_nbformat": 4
 },
 "nbformat": 4,
 "nbformat_minor": 2
}
